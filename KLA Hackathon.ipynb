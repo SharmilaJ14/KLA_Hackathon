{
 "cells": [
  {
   "cell_type": "code",
   "execution_count": 24,
   "id": "37015b6d-5af1-4011-9595-60b110370728",
   "metadata": {},
   "outputs": [],
   "source": [
    "import numpy as np\n",
    "import math as m"
   ]
  },
  {
   "cell_type": "markdown",
   "id": "c5166dae-7dd2-4277-aac6-d8f4bbd48d0c",
   "metadata": {},
   "source": [
    "Milestone 1: Find n equally spaced points in a line which is $\\theta$ angle from the center, where the center, $\\theta$ and radius is given in mm."
   ]
  },
  {
   "cell_type": "code",
   "execution_count": 63,
   "id": "b565a825-54c8-4d90-9182-8e1dc5dc331d",
   "metadata": {},
   "outputs": [],
   "source": [
    "#Importing the data\n",
    "data=[]\n",
    "with open ('Downloads/Kla hackathon/Milestone1/Input/Testcase1.txt','r') as f:\n",
    "    for i in f:\n",
    "        data.append(i)"
   ]
  },
  {
   "cell_type": "code",
   "execution_count": 64,
   "id": "606da1ea-09eb-4fa3-aeb9-54553001c68f",
   "metadata": {},
   "outputs": [
    {
     "name": "stdout",
     "output_type": "stream",
     "text": [
      "['WaferDiameter:300\\n', 'NumberOfPoints:30\\n', 'Angle:0']\n"
     ]
    }
   ],
   "source": [
    "print(data)"
   ]
  },
  {
   "cell_type": "code",
   "execution_count": 65,
   "id": "53831a92-19b1-4d22-980d-f3490ea15469",
   "metadata": {},
   "outputs": [
    {
     "data": {
      "text/plain": [
       "300.0"
      ]
     },
     "execution_count": 65,
     "metadata": {},
     "output_type": "execute_result"
    }
   ],
   "source": [
    "diameter=float(data[0][14:][:-1])\n",
    "diameter"
   ]
  },
  {
   "cell_type": "code",
   "execution_count": 66,
   "id": "a3b54c11-7260-48b6-9311-e5326070f3d6",
   "metadata": {},
   "outputs": [
    {
     "data": {
      "text/plain": [
       "30"
      ]
     },
     "execution_count": 66,
     "metadata": {},
     "output_type": "execute_result"
    }
   ],
   "source": [
    "n=int(data[1][15:][:-1])\n",
    "n"
   ]
  },
  {
   "cell_type": "code",
   "execution_count": 67,
   "id": "1c38d074-a779-435e-be9e-197893d5db2c",
   "metadata": {},
   "outputs": [
    {
     "data": {
      "text/plain": [
       "0"
      ]
     },
     "execution_count": 67,
     "metadata": {},
     "output_type": "execute_result"
    }
   ],
   "source": [
    "angle=int(data[2][6:])\n",
    "angle"
   ]
  },
  {
   "cell_type": "code",
   "execution_count": 68,
   "id": "d59e25ce-9ccb-4226-be8a-1ca4510631b1",
   "metadata": {},
   "outputs": [
    {
     "data": {
      "text/plain": [
       "0.0"
      ]
     },
     "execution_count": 68,
     "metadata": {},
     "output_type": "execute_result"
    }
   ],
   "source": [
    "slope=m.tan(m.radians(angle))\n",
    "slope"
   ]
  },
  {
   "cell_type": "code",
   "execution_count": 70,
   "id": "fb2f1e11-7bd3-4a48-8bfa-f3014b9ea660",
   "metadata": {},
   "outputs": [
    {
     "name": "stdout",
     "output_type": "stream",
     "text": [
      "[-150.         -139.65517241 -129.31034483 -118.96551724 -108.62068966\n",
      "  -98.27586207  -87.93103448  -77.5862069   -67.24137931  -56.89655172\n",
      "  -46.55172414  -36.20689655  -25.86206897  -15.51724138   -5.17241379\n",
      "    5.17241379   15.51724138   25.86206897   36.20689655   46.55172414\n",
      "   56.89655172   67.24137931   77.5862069    87.93103448   98.27586207\n",
      "  108.62068966  118.96551724  129.31034483  139.65517241  150.        ] [-0.0, -0.0, -0.0, -0.0, -0.0, -0.0, -0.0, -0.0, -0.0, -0.0, -0.0, -0.0, -0.0, -0.0, -0.0, 0.0, 0.0, 0.0, 0.0, 0.0, 0.0, 0.0, 0.0, 0.0, 0.0, 0.0, 0.0, 0.0, 0.0, 0.0]\n"
     ]
    }
   ],
   "source": [
    "#Generating equally spaced points by using x-axis and y-axis\n",
    "y=lambda x,m:x*m\n",
    "X=np.linspace(-diameter/2,diameter/2,n)\n",
    "Y=[y(i,slope) for i in X]\n",
    "print(X,Y)"
   ]
  },
  {
   "cell_type": "code",
   "execution_count": 72,
   "id": "5d160fd8-d9ae-4548-9240-29e16694c867",
   "metadata": {},
   "outputs": [
    {
     "data": {
      "text/plain": [
       "[(-150.0, 0.0),\n",
       " (-139.6552, 0.0),\n",
       " (-129.3103, 0.0),\n",
       " (-118.9655, 0.0),\n",
       " (-108.6207, 0.0),\n",
       " (-98.2759, 0.0),\n",
       " (-87.931, 0.0),\n",
       " (-77.5862, 0.0),\n",
       " (-67.2414, 0.0),\n",
       " (-56.8966, 0.0),\n",
       " (-46.5517, 0.0),\n",
       " (-36.2069, 0.0),\n",
       " (-25.8621, 0.0),\n",
       " (-15.5172, 0.0),\n",
       " (-5.1724, 0.0),\n",
       " (5.1724, 0.0),\n",
       " (15.5172, 0.0),\n",
       " (25.8621, 0.0),\n",
       " (36.2069, 0.0),\n",
       " (46.5517, 0.0),\n",
       " (56.8966, 0.0),\n",
       " (67.2414, 0.0),\n",
       " (77.5862, 0.0),\n",
       " (87.931, 0.0),\n",
       " (98.2759, 0.0),\n",
       " (108.6207, 0.0),\n",
       " (118.9655, 0.0),\n",
       " (129.3103, 0.0),\n",
       " (139.6552, 0.0),\n",
       " (150.0, 0.0)]"
      ]
     },
     "execution_count": 72,
     "metadata": {},
     "output_type": "execute_result"
    }
   ],
   "source": [
    "points=[(round(X[i],4),round(Y[i],4)) if Y[i]!=-0.00 else (round(X[i],4),0.00) for i in range(n)]\n",
    "points"
   ]
  },
  {
   "cell_type": "code",
   "execution_count": 87,
   "id": "0605c057-b820-497d-a56a-167fd79f2a9e",
   "metadata": {
    "scrolled": true
   },
   "outputs": [
    {
     "data": {
      "text/plain": [
       "[(150.0, 0.0),\n",
       " (139.6552, 0.0),\n",
       " (129.3103, 0.0),\n",
       " (118.9655, 0.0),\n",
       " (108.6207, 0.0),\n",
       " (98.2759, 0.0),\n",
       " (87.931, 0.0),\n",
       " (77.5862, 0.0),\n",
       " (67.2414, 0.0),\n",
       " (56.8966, 0.0),\n",
       " (46.5517, 0.0),\n",
       " (36.2069, 0.0),\n",
       " (25.8621, 0.0),\n",
       " (15.5172, 0.0),\n",
       " (5.1724, 0.0),\n",
       " (-5.1724, 0.0),\n",
       " (-15.5172, 0.0),\n",
       " (-25.8621, 0.0),\n",
       " (-36.2069, 0.0),\n",
       " (-46.5517, 0.0),\n",
       " (-56.8966, 0.0),\n",
       " (-67.2414, 0.0),\n",
       " (-77.5862, 0.0),\n",
       " (-87.931, 0.0),\n",
       " (-98.2759, 0.0),\n",
       " (-108.6207, 0.0),\n",
       " (-118.9655, 0.0),\n",
       " (-129.3103, 0.0),\n",
       " (-139.6552, 0.0),\n",
       " (-150.0, 0.0)]"
      ]
     },
     "execution_count": 87,
     "metadata": {},
     "output_type": "execute_result"
    }
   ],
   "source": [
    "#Finding the edge points and rotating them according to angle\n",
    "X=(diameter/2)/m.sqrt(1+slope**2)\n",
    "Y=slope*y\n",
    "ed=[(-X,-Y),(X,Y)]\n",
    "lam=np.linspace(0,1,n)\n",
    "points=[(round(ep[0][0]*l+(1-l)*ep[1][0],4),round(ep[0][1]*l+(1-l)*ep[1][1],4)) for l in lam]\n",
    "points"
   ]
  },
  {
   "cell_type": "code",
   "execution_count": 86,
   "id": "41efc7db-fd7b-417a-bf6c-610c760f415c",
   "metadata": {},
   "outputs": [
    {
     "data": {
      "text/plain": [
       "(150.0, 0.0)"
      ]
     },
     "execution_count": 86,
     "metadata": {},
     "output_type": "execute_result"
    }
   ],
   "source": [
    "X=(diameter/2)/m.sqrt(1+slope**2)\n",
    "Y=slope*X\n",
    "X,Y"
   ]
  },
  {
   "cell_type": "code",
   "execution_count": 133,
   "id": "74193a91-164c-4e11-a382-d8d06892f534",
   "metadata": {},
   "outputs": [],
   "source": [
    "#Consolidating it into a function\n",
    "def milestone1(test):\n",
    "    data=[]\n",
    "    with open(f'Downloads/Kla hackathon/Milestone1/Input/Testcase{test}.txt','r') as f:\n",
    "        for i in f:\n",
    "            data.append(i)\n",
    "    diameter=float(data[0][14:][:-1])\n",
    "    n=int(data[1][15:][:-1])\n",
    "    angle=int(data[2][6:])\n",
    "    slope=m.tan(m.radians(angle))\n",
    "    X=(diameter/2)/np.sqrt(1+slope**2)\n",
    "    Y=slope*X\n",
    "    ep=[(-X,-Y),(X,Y)]\n",
    "    lam=np.linspace(0,1,n)\n",
    "    points=[(round(ep[0][0]*l+(1-l)*ep[1][0],4),round(ep[0][1]*l+(1-l)*ep[1][1],4)) for l in lam]\n",
    "    with open(f'milestone1_{test}.txt','w') as f:\n",
    "        for i in points:\n",
    "            f.write(str(i)+'\\n')\n",
    "    print(points)"
   ]
  },
  {
   "cell_type": "code",
   "execution_count": 134,
   "id": "14fdec3e-c68b-4427-9d81-a6b6f8cf2f77",
   "metadata": {},
   "outputs": [
    {
     "name": "stdout",
     "output_type": "stream",
     "text": [
      "[(150.0, 0.0), (139.6552, 0.0), (129.3103, 0.0), (118.9655, 0.0), (108.6207, 0.0), (98.2759, 0.0), (87.931, 0.0), (77.5862, 0.0), (67.2414, 0.0), (56.8966, 0.0), (46.5517, 0.0), (36.2069, 0.0), (25.8621, 0.0), (15.5172, 0.0), (5.1724, 0.0), (-5.1724, 0.0), (-15.5172, 0.0), (-25.8621, 0.0), (-36.2069, 0.0), (-46.5517, 0.0), (-56.8966, 0.0), (-67.2414, 0.0), (-77.5862, 0.0), (-87.931, 0.0), (-98.2759, 0.0), (-108.6207, 0.0), (-118.9655, 0.0), (-129.3103, 0.0), (-139.6552, 0.0), (-150.0, 0.0)]\n"
     ]
    }
   ],
   "source": [
    "milestone1(1)"
   ]
  },
  {
   "cell_type": "code",
   "execution_count": 135,
   "id": "34e2688a-0c0b-4089-bb75-90c33258c16f",
   "metadata": {},
   "outputs": [
    {
     "name": "stdout",
     "output_type": "stream",
     "text": [
      "[(106.066, 106.066), (82.4958, 82.4958), (58.9256, 58.9256), (35.3553, 35.3553), (11.7851, 11.7851), (-11.7851, -11.7851), (-35.3553, -35.3553), (-58.9256, -58.9256), (-82.4958, -82.4958), (-106.066, -106.066)]\n"
     ]
    }
   ],
   "source": [
    "milestone1(2)"
   ]
  },
  {
   "cell_type": "code",
   "execution_count": 136,
   "id": "be39e9da-8a7a-4d59-a6d1-14389abf8df8",
   "metadata": {},
   "outputs": [
    {
     "name": "stdout",
     "output_type": "stream",
     "text": [
      "[(34.202, 93.9693), (31.3518, 86.1385), (28.5017, 78.3077), (25.6515, 70.4769), (22.8013, 62.6462), (19.9512, 54.8154), (17.101, 46.9846), (14.2508, 39.1539), (11.4007, 31.3231), (8.5505, 23.4923), (5.7003, 15.6615), (2.8502, 7.8308), (0.0, 0.0), (-2.8502, -7.8308), (-5.7003, -15.6615), (-8.5505, -23.4923), (-11.4007, -31.3231), (-14.2508, -39.1539), (-17.101, -46.9846), (-19.9512, -54.8154), (-22.8013, -62.6462), (-25.6515, -70.4769), (-28.5017, -78.3077), (-31.3518, -86.1385), (-34.202, -93.9693)]\n"
     ]
    }
   ],
   "source": [
    "milestone1(3)"
   ]
  },
  {
   "cell_type": "code",
   "execution_count": 137,
   "id": "1337ecce-b8dc-4257-8497-d5f94411690f",
   "metadata": {},
   "outputs": [
    {
     "name": "stdout",
     "output_type": "stream",
     "text": [
      "[(86.6025, -50.0), (80.829, -46.6667), (75.0555, -43.3333), (69.282, -40.0), (63.5085, -36.6667), (57.735, -33.3333), (51.9615, -30.0), (46.188, -26.6667), (40.4145, -23.3333), (34.641, -20.0), (28.8675, -16.6667), (23.094, -13.3333), (17.3205, -10.0), (11.547, -6.6667), (5.7735, -3.3333), (0.0, 0.0), (-5.7735, 3.3333), (-11.547, 6.6667), (-17.3205, 10.0), (-23.094, 13.3333), (-28.8675, 16.6667), (-34.641, 20.0), (-40.4145, 23.3333), (-46.188, 26.6667), (-51.9615, 30.0), (-57.735, 33.3333), (-63.5085, 36.6667), (-69.282, 40.0), (-75.0555, 43.3333), (-80.829, 46.6667), (-86.6025, 50.0)]\n"
     ]
    }
   ],
   "source": [
    "milestone1(4)"
   ]
  },
  {
   "cell_type": "markdown",
   "id": "c7a6f61f-a5c2-432d-a574-44986f09b8b6",
   "metadata": {},
   "source": [
    "Milestone 2: Given the size of die, diameter of circle, die shift vector and center of a reference die, find:\n",
    "* All the dies which are printed in the wafer with respect to the reference die.\n",
    "* The coordinate of the lower left corner of the dies with respect to the center of the die.\n",
    "  \n",
    "<p>Arrange the output as a dictionary and print it.</p>"
   ]
  },
  {
   "cell_type": "code",
   "execution_count": 117,
   "id": "7b9aa9db-f380-4878-823b-b783caaea205",
   "metadata": {},
   "outputs": [
    {
     "data": {
      "text/plain": [
       "['WaferDiameter:300\\n',\n",
       " 'DieSize:30x30\\n',\n",
       " 'DieShiftVector:(0,0)\\n',\n",
       " 'ReferenceDie:(15,15)']"
      ]
     },
     "execution_count": 117,
     "metadata": {},
     "output_type": "execute_result"
    }
   ],
   "source": [
    "#Importing data\n",
    "data=[]\n",
    "with open('Downloads/Kla hackathon/Milestone2/Input/Testcase1.txt','r') as f:\n",
    "    for i in f:\n",
    "        data.append(i)\n",
    "data"
   ]
  },
  {
   "cell_type": "code",
   "execution_count": 118,
   "id": "a232b1b2-f81a-4ffb-96a6-6df27162fa1d",
   "metadata": {},
   "outputs": [
    {
     "data": {
      "text/plain": [
       "300.0"
      ]
     },
     "execution_count": 118,
     "metadata": {},
     "output_type": "execute_result"
    }
   ],
   "source": [
    "diameter=float(data[0][14:][:-1])\n",
    "diameter"
   ]
  },
  {
   "cell_type": "code",
   "execution_count": 119,
   "id": "403ae462-faa8-4b3b-b528-90d3857bcd3b",
   "metadata": {},
   "outputs": [
    {
     "data": {
      "text/plain": [
       "(30, 30)"
      ]
     },
     "execution_count": 119,
     "metadata": {},
     "output_type": "execute_result"
    }
   ],
   "source": [
    "size=tuple(map(int,data[1][8:][:-1].split('x')))\n",
    "size"
   ]
  },
  {
   "cell_type": "code",
   "execution_count": 120,
   "id": "b1907c13-022d-45f0-983d-08d25e243b95",
   "metadata": {},
   "outputs": [
    {
     "data": {
      "text/plain": [
       "(0, 0)"
      ]
     },
     "execution_count": 120,
     "metadata": {},
     "output_type": "execute_result"
    }
   ],
   "source": [
    "shiftVector=tuple(map(int,data[2][16:][:-2].split(',')))\n",
    "shiftVector"
   ]
  },
  {
   "cell_type": "code",
   "execution_count": 121,
   "id": "f8a9cedc-e282-47e5-a945-1d40aa4d2897",
   "metadata": {},
   "outputs": [
    {
     "data": {
      "text/plain": [
       "(15, 15)"
      ]
     },
     "execution_count": 121,
     "metadata": {},
     "output_type": "execute_result"
    }
   ],
   "source": [
    "referenceDie=tuple(map(int,data[3][14:][:-1].split(',')))\n",
    "referenceDie"
   ]
  },
  {
   "cell_type": "code",
   "execution_count": null,
   "id": "66d4b918-d10a-495f-a36d-d08fc1d673c5",
   "metadata": {},
   "outputs": [],
   "source": [
    "#Finding an approach to get the solution\n",
    "#Step 1:LLC of die nearest to the center is called shiftVector. Find the LLC of the reference die using distance\n"
   ]
  }
 ],
 "metadata": {
  "kernelspec": {
   "display_name": "Python 3 (ipykernel)",
   "language": "python",
   "name": "python3"
  },
  "language_info": {
   "codemirror_mode": {
    "name": "ipython",
    "version": 3
   },
   "file_extension": ".py",
   "mimetype": "text/x-python",
   "name": "python",
   "nbconvert_exporter": "python",
   "pygments_lexer": "ipython3",
   "version": "3.11.7"
  }
 },
 "nbformat": 4,
 "nbformat_minor": 5
}
