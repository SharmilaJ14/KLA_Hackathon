{
 "cells": [
  {
   "cell_type": "code",
   "execution_count": 24,
   "id": "37015b6d-5af1-4011-9595-60b110370728",
   "metadata": {},
   "outputs": [],
   "source": [
    "import numpy as np\n",
    "import math as m"
   ]
  },
  {
   "cell_type": "markdown",
   "id": "c5166dae-7dd2-4277-aac6-d8f4bbd48d0c",
   "metadata": {},
   "source": [
    "Milestone 1: Find n equally spaced points in a line which is $\\theta$ angle from the center, where the center, $\\theta$ and radius is given in mm."
   ]
  },
  {
   "cell_type": "code",
   "execution_count": 63,
   "id": "b565a825-54c8-4d90-9182-8e1dc5dc331d",
   "metadata": {},
   "outputs": [],
   "source": [
    "#Importing the data\n",
    "data=[]\n",
    "with open ('Downloads/Kla hackathon/Milestone1/Input/Testcase1.txt','r') as f:\n",
    "    for i in f:\n",
    "        data.append(i)"
   ]
  },
  {
   "cell_type": "code",
   "execution_count": 64,
   "id": "606da1ea-09eb-4fa3-aeb9-54553001c68f",
   "metadata": {},
   "outputs": [
    {
     "name": "stdout",
     "output_type": "stream",
     "text": [
      "['WaferDiameter:300\\n', 'NumberOfPoints:30\\n', 'Angle:0']\n"
     ]
    }
   ],
   "source": [
    "print(data)"
   ]
  },
  {
   "cell_type": "code",
   "execution_count": 65,
   "id": "53831a92-19b1-4d22-980d-f3490ea15469",
   "metadata": {},
   "outputs": [
    {
     "data": {
      "text/plain": [
       "300.0"
      ]
     },
     "execution_count": 65,
     "metadata": {},
     "output_type": "execute_result"
    }
   ],
   "source": [
    "diameter=float(data[0][14:][:-1])\n",
    "diameter"
   ]
  },
  {
   "cell_type": "code",
   "execution_count": 66,
   "id": "a3b54c11-7260-48b6-9311-e5326070f3d6",
   "metadata": {},
   "outputs": [
    {
     "data": {
      "text/plain": [
       "30"
      ]
     },
     "execution_count": 66,
     "metadata": {},
     "output_type": "execute_result"
    }
   ],
   "source": [
    "n=int(data[1][15:][:-1])\n",
    "n"
   ]
  },
  {
   "cell_type": "code",
   "execution_count": 67,
   "id": "1c38d074-a779-435e-be9e-197893d5db2c",
   "metadata": {},
   "outputs": [
    {
     "data": {
      "text/plain": [
       "0"
      ]
     },
     "execution_count": 67,
     "metadata": {},
     "output_type": "execute_result"
    }
   ],
   "source": [
    "angle=int(data[2][6:])\n",
    "angle"
   ]
  },
  {
   "cell_type": "code",
   "execution_count": 68,
   "id": "d59e25ce-9ccb-4226-be8a-1ca4510631b1",
   "metadata": {},
   "outputs": [
    {
     "data": {
      "text/plain": [
       "0.0"
      ]
     },
     "execution_count": 68,
     "metadata": {},
     "output_type": "execute_result"
    }
   ],
   "source": [
    "slope=m.tan(m.radians(angle))\n",
    "slope"
   ]
  },
  {
   "cell_type": "code",
   "execution_count": 70,
   "id": "fb2f1e11-7bd3-4a48-8bfa-f3014b9ea660",
   "metadata": {},
   "outputs": [
    {
     "name": "stdout",
     "output_type": "stream",
     "text": [
      "[-150.         -139.65517241 -129.31034483 -118.96551724 -108.62068966\n",
      "  -98.27586207  -87.93103448  -77.5862069   -67.24137931  -56.89655172\n",
      "  -46.55172414  -36.20689655  -25.86206897  -15.51724138   -5.17241379\n",
      "    5.17241379   15.51724138   25.86206897   36.20689655   46.55172414\n",
      "   56.89655172   67.24137931   77.5862069    87.93103448   98.27586207\n",
      "  108.62068966  118.96551724  129.31034483  139.65517241  150.        ] [-0.0, -0.0, -0.0, -0.0, -0.0, -0.0, -0.0, -0.0, -0.0, -0.0, -0.0, -0.0, -0.0, -0.0, -0.0, 0.0, 0.0, 0.0, 0.0, 0.0, 0.0, 0.0, 0.0, 0.0, 0.0, 0.0, 0.0, 0.0, 0.0, 0.0]\n"
     ]
    }
   ],
   "source": [
    "#Generating equally spaced points by using x-axis and y-axis\n",
    "y=lambda x,m:x*m\n",
    "X=np.linspace(-diameter/2,diameter/2,n)\n",
    "Y=[y(i,slope) for i in X]\n",
    "print(X,Y)"
   ]
  },
  {
   "cell_type": "code",
   "execution_count": 72,
   "id": "5d160fd8-d9ae-4548-9240-29e16694c867",
   "metadata": {},
   "outputs": [
    {
     "data": {
      "text/plain": [
       "[(-150.0, 0.0),\n",
       " (-139.6552, 0.0),\n",
       " (-129.3103, 0.0),\n",
       " (-118.9655, 0.0),\n",
       " (-108.6207, 0.0),\n",
       " (-98.2759, 0.0),\n",
       " (-87.931, 0.0),\n",
       " (-77.5862, 0.0),\n",
       " (-67.2414, 0.0),\n",
       " (-56.8966, 0.0),\n",
       " (-46.5517, 0.0),\n",
       " (-36.2069, 0.0),\n",
       " (-25.8621, 0.0),\n",
       " (-15.5172, 0.0),\n",
       " (-5.1724, 0.0),\n",
       " (5.1724, 0.0),\n",
       " (15.5172, 0.0),\n",
       " (25.8621, 0.0),\n",
       " (36.2069, 0.0),\n",
       " (46.5517, 0.0),\n",
       " (56.8966, 0.0),\n",
       " (67.2414, 0.0),\n",
       " (77.5862, 0.0),\n",
       " (87.931, 0.0),\n",
       " (98.2759, 0.0),\n",
       " (108.6207, 0.0),\n",
       " (118.9655, 0.0),\n",
       " (129.3103, 0.0),\n",
       " (139.6552, 0.0),\n",
       " (150.0, 0.0)]"
      ]
     },
     "execution_count": 72,
     "metadata": {},
     "output_type": "execute_result"
    }
   ],
   "source": [
    "points=[(round(X[i],4),round(Y[i],4)) if Y[i]!=-0.00 else (round(X[i],4),0.00) for i in range(n)]\n",
    "points"
   ]
  },
  {
   "cell_type": "code",
   "execution_count": 87,
   "id": "0605c057-b820-497d-a56a-167fd79f2a9e",
   "metadata": {
    "scrolled": true
   },
   "outputs": [
    {
     "data": {
      "text/plain": [
       "[(150.0, 0.0),\n",
       " (139.6552, 0.0),\n",
       " (129.3103, 0.0),\n",
       " (118.9655, 0.0),\n",
       " (108.6207, 0.0),\n",
       " (98.2759, 0.0),\n",
       " (87.931, 0.0),\n",
       " (77.5862, 0.0),\n",
       " (67.2414, 0.0),\n",
       " (56.8966, 0.0),\n",
       " (46.5517, 0.0),\n",
       " (36.2069, 0.0),\n",
       " (25.8621, 0.0),\n",
       " (15.5172, 0.0),\n",
       " (5.1724, 0.0),\n",
       " (-5.1724, 0.0),\n",
       " (-15.5172, 0.0),\n",
       " (-25.8621, 0.0),\n",
       " (-36.2069, 0.0),\n",
       " (-46.5517, 0.0),\n",
       " (-56.8966, 0.0),\n",
       " (-67.2414, 0.0),\n",
       " (-77.5862, 0.0),\n",
       " (-87.931, 0.0),\n",
       " (-98.2759, 0.0),\n",
       " (-108.6207, 0.0),\n",
       " (-118.9655, 0.0),\n",
       " (-129.3103, 0.0),\n",
       " (-139.6552, 0.0),\n",
       " (-150.0, 0.0)]"
      ]
     },
     "execution_count": 87,
     "metadata": {},
     "output_type": "execute_result"
    }
   ],
   "source": [
    "#Finding the edge points and rotating them according to angle\n",
    "X=(diameter/2)/m.sqrt(1+slope**2)\n",
    "Y=slope*y\n",
    "ed=[(-X,-Y),(X,Y)]\n",
    "lam=np.linspace(0,1,n)\n",
    "points=[(round(ep[0][0]*l+(1-l)*ep[1][0],4),round(ep[0][1]*l+(1-l)*ep[1][1],4)) for l in lam]\n",
    "points"
   ]
  },
  {
   "cell_type": "code",
   "execution_count": 86,
   "id": "41efc7db-fd7b-417a-bf6c-610c760f415c",
   "metadata": {},
   "outputs": [
    {
     "data": {
      "text/plain": [
       "(150.0, 0.0)"
      ]
     },
     "execution_count": 86,
     "metadata": {},
     "output_type": "execute_result"
    }
   ],
   "source": [
    "X=(diameter/2)/m.sqrt(1+slope**2)\n",
    "Y=slope*X\n",
    "X,Y"
   ]
  },
  {
   "cell_type": "code",
   "execution_count": 88,
   "id": "74193a91-164c-4e11-a382-d8d06892f534",
   "metadata": {},
   "outputs": [],
   "source": [
    "#Consolidating it into a function\n",
    "def milestone1(test):\n",
    "    data=[]\n",
    "    with open(f'Downloads/Kla hackathon/Milestone1/Input/Testcase{test}.txt','r') as f:\n",
    "        for i in f:\n",
    "            data.append(i)\n",
    "    diameter=float(data[0][14:][:-1])\n",
    "    n=int(data[1][15:][:-1])\n",
    "    angle=int(data[2][6:])\n",
    "    slope=m.tan(m.radians(angle))\n",
    "    X=(diameter/2)/np.sqrt(1+slope**2)\n",
    "    Y=slope*X\n",
    "    ep=[(-X,-Y),(X,Y)]\n",
    "    lam=np.linspace(0,1,n)\n",
    "    points=[(round(ep[0][0]*l+(1-l)*ep[1][0],4),round(ep[0][1]*l+(1-l)*ep[1][1],4)) for l in lam]\n",
    "    return points"
   ]
  },
  {
   "cell_type": "code",
   "execution_count": 89,
   "id": "dbe699f5-9d86-440e-b602-3a0d6fe41c4d",
   "metadata": {},
   "outputs": [
    {
     "data": {
      "text/plain": [
       "[(150.0, 0.0),\n",
       " (139.6552, 0.0),\n",
       " (129.3103, 0.0),\n",
       " (118.9655, 0.0),\n",
       " (108.6207, 0.0),\n",
       " (98.2759, 0.0),\n",
       " (87.931, 0.0),\n",
       " (77.5862, 0.0),\n",
       " (67.2414, 0.0),\n",
       " (56.8966, 0.0),\n",
       " (46.5517, 0.0),\n",
       " (36.2069, 0.0),\n",
       " (25.8621, 0.0),\n",
       " (15.5172, 0.0),\n",
       " (5.1724, 0.0),\n",
       " (-5.1724, 0.0),\n",
       " (-15.5172, 0.0),\n",
       " (-25.8621, 0.0),\n",
       " (-36.2069, 0.0),\n",
       " (-46.5517, 0.0),\n",
       " (-56.8966, 0.0),\n",
       " (-67.2414, 0.0),\n",
       " (-77.5862, 0.0),\n",
       " (-87.931, 0.0),\n",
       " (-98.2759, 0.0),\n",
       " (-108.6207, 0.0),\n",
       " (-118.9655, 0.0),\n",
       " (-129.3103, 0.0),\n",
       " (-139.6552, 0.0),\n",
       " (-150.0, 0.0)]"
      ]
     },
     "execution_count": 89,
     "metadata": {},
     "output_type": "execute_result"
    }
   ],
   "source": [
    "milestone1(1)"
   ]
  },
  {
   "cell_type": "code",
   "execution_count": 90,
   "id": "cde53ee7-d6b3-4865-b72e-692f033f204d",
   "metadata": {},
   "outputs": [
    {
     "data": {
      "text/plain": [
       "[(106.066, 106.066),\n",
       " (82.4958, 82.4958),\n",
       " (58.9256, 58.9256),\n",
       " (35.3553, 35.3553),\n",
       " (11.7851, 11.7851),\n",
       " (-11.7851, -11.7851),\n",
       " (-35.3553, -35.3553),\n",
       " (-58.9256, -58.9256),\n",
       " (-82.4958, -82.4958),\n",
       " (-106.066, -106.066)]"
      ]
     },
     "execution_count": 90,
     "metadata": {},
     "output_type": "execute_result"
    }
   ],
   "source": [
    "milestone1(2)"
   ]
  },
  {
   "cell_type": "code",
   "execution_count": 91,
   "id": "ed01ae5d-1504-4f12-be7a-7c75b9ef2309",
   "metadata": {},
   "outputs": [
    {
     "data": {
      "text/plain": [
       "[(34.202, 93.9693),\n",
       " (31.3518, 86.1385),\n",
       " (28.5017, 78.3077),\n",
       " (25.6515, 70.4769),\n",
       " (22.8013, 62.6462),\n",
       " (19.9512, 54.8154),\n",
       " (17.101, 46.9846),\n",
       " (14.2508, 39.1539),\n",
       " (11.4007, 31.3231),\n",
       " (8.5505, 23.4923),\n",
       " (5.7003, 15.6615),\n",
       " (2.8502, 7.8308),\n",
       " (0.0, 0.0),\n",
       " (-2.8502, -7.8308),\n",
       " (-5.7003, -15.6615),\n",
       " (-8.5505, -23.4923),\n",
       " (-11.4007, -31.3231),\n",
       " (-14.2508, -39.1539),\n",
       " (-17.101, -46.9846),\n",
       " (-19.9512, -54.8154),\n",
       " (-22.8013, -62.6462),\n",
       " (-25.6515, -70.4769),\n",
       " (-28.5017, -78.3077),\n",
       " (-31.3518, -86.1385),\n",
       " (-34.202, -93.9693)]"
      ]
     },
     "execution_count": 91,
     "metadata": {},
     "output_type": "execute_result"
    }
   ],
   "source": [
    "milestone1(3)"
   ]
  },
  {
   "cell_type": "code",
   "execution_count": 93,
   "id": "ea46681e-87cd-421e-ab9c-524a8ab0a7e2",
   "metadata": {},
   "outputs": [
    {
     "data": {
      "text/plain": [
       "[(86.6025, -50.0),\n",
       " (80.829, -46.6667),\n",
       " (75.0555, -43.3333),\n",
       " (69.282, -40.0),\n",
       " (63.5085, -36.6667),\n",
       " (57.735, -33.3333),\n",
       " (51.9615, -30.0),\n",
       " (46.188, -26.6667),\n",
       " (40.4145, -23.3333),\n",
       " (34.641, -20.0),\n",
       " (28.8675, -16.6667),\n",
       " (23.094, -13.3333),\n",
       " (17.3205, -10.0),\n",
       " (11.547, -6.6667),\n",
       " (5.7735, -3.3333),\n",
       " (0.0, 0.0),\n",
       " (-5.7735, 3.3333),\n",
       " (-11.547, 6.6667),\n",
       " (-17.3205, 10.0),\n",
       " (-23.094, 13.3333),\n",
       " (-28.8675, 16.6667),\n",
       " (-34.641, 20.0),\n",
       " (-40.4145, 23.3333),\n",
       " (-46.188, 26.6667),\n",
       " (-51.9615, 30.0),\n",
       " (-57.735, 33.3333),\n",
       " (-63.5085, 36.6667),\n",
       " (-69.282, 40.0),\n",
       " (-75.0555, 43.3333),\n",
       " (-80.829, 46.6667),\n",
       " (-86.6025, 50.0)]"
      ]
     },
     "execution_count": 93,
     "metadata": {},
     "output_type": "execute_result"
    }
   ],
   "source": [
    "milestone1(4)"
   ]
  },
  {
   "cell_type": "code",
   "execution_count": null,
   "id": "9fa7d3bc-0d59-45c9-8982-ee1e8b4bf570",
   "metadata": {},
   "outputs": [],
   "source": []
  }
 ],
 "metadata": {
  "kernelspec": {
   "display_name": "Python 3 (ipykernel)",
   "language": "python",
   "name": "python3"
  },
  "language_info": {
   "codemirror_mode": {
    "name": "ipython",
    "version": 3
   },
   "file_extension": ".py",
   "mimetype": "text/x-python",
   "name": "python",
   "nbconvert_exporter": "python",
   "pygments_lexer": "ipython3",
   "version": "3.11.7"
  }
 },
 "nbformat": 4,
 "nbformat_minor": 5
}
